{
 "cells": [
  {
   "cell_type": "code",
   "execution_count": 1,
   "metadata": {},
   "outputs": [],
   "source": [
    "%matplotlib inline\n",
    "import matplotlib\n",
    "import matplotlib.pyplot as plt\n",
    "import numpy as np\n",
    "import pandas as pd\n",
    "from PIL import Image\n",
    "import timeit\n",
    "\n",
    "import tensorflow as tf\n",
    "from tensorflow.keras import layers\n",
    "keras = tf.keras\n",
    "AUTOTUNE = tf.data.experimental.AUTOTUNE ## tf.data transformation parameters\n",
    "\n",
    "from sklearn.model_selection import train_test_split\n",
    "\n",
    "matplotlib.style.use('ggplot')"
   ]
  },
  {
   "cell_type": "markdown",
   "metadata": {},
   "source": [
    "# Imports"
   ]
  },
  {
   "cell_type": "code",
   "execution_count": 2,
   "metadata": {},
   "outputs": [],
   "source": [
    "# The number of celeb images: 2052599\n",
    "n_celeb_images = 20000\n",
    "# The format specification here left pads zeros on the number: 000006.\n",
    "celeb_filenames = ['data/img_align_celeba/{:06d}.jpg'.format(i)\n",
    "                    for i in range(1, n_celeb_images + 1)]\n",
    "## slicing the array of strings, resulting in a set of scalar binary-strings\n",
    "# path_ds = tf.data.Dataset.from_tensor_slices(celeb_filenames)"
   ]
  },
  {
   "cell_type": "code",
   "execution_count": 3,
   "metadata": {},
   "outputs": [],
   "source": [
    "def jpg_image_to_array(image_path):\n",
    "  \"\"\"\n",
    "  Loads JPEG image into 3D Numpy array of shape \n",
    "  (width, height, channels)\n",
    "  \"\"\"\n",
    "  with Image.open(image_path) as image:         \n",
    "    im_arr = np.fromstring(image.tobytes(), dtype=np.uint8)\n",
    "    im_arr = im_arr.reshape((image.size[1], image.size[0], 3))                                   \n",
    "    return im_arr"
   ]
  },
  {
   "cell_type": "code",
   "execution_count": 4,
   "metadata": {},
   "outputs": [
    {
     "name": "stderr",
     "output_type": "stream",
     "text": [
      "/Users/AaronLee/anaconda3/lib/python3.7/site-packages/ipykernel_launcher.py:7: DeprecationWarning: The binary mode of fromstring is deprecated, as it behaves surprisingly on unicode inputs. Use frombuffer instead\n",
      "  import sys\n"
     ]
    },
    {
     "name": "stdout",
     "output_type": "stream",
     "text": [
      "CPU times: user 18.8 s, sys: 5.8 s, total: 24.6 s\n",
      "Wall time: 34.1 s\n"
     ]
    }
   ],
   "source": [
    "%%time\n",
    "full_images=[]\n",
    "for i in celeb_filenames:\n",
    "    full_images.append(jpg_image_to_array(i))"
   ]
  },
  {
   "cell_type": "code",
   "execution_count": null,
   "metadata": {},
   "outputs": [],
   "source": []
  },
  {
   "cell_type": "code",
   "execution_count": null,
   "metadata": {},
   "outputs": [],
   "source": []
  },
  {
   "cell_type": "code",
   "execution_count": 5,
   "metadata": {},
   "outputs": [],
   "source": [
    "df_labels = pd.read_csv('data/list_attr_celeba.csv')"
   ]
  },
  {
   "cell_type": "code",
   "execution_count": 6,
   "metadata": {},
   "outputs": [],
   "source": [
    "df_labels.columns = map(str.lower, df_labels.columns)\n",
    "df_labels.replace([-1], 0, inplace=True)"
   ]
  },
  {
   "cell_type": "code",
   "execution_count": 7,
   "metadata": {},
   "outputs": [
    {
     "data": {
      "text/html": [
       "<div>\n",
       "<style scoped>\n",
       "    .dataframe tbody tr th:only-of-type {\n",
       "        vertical-align: middle;\n",
       "    }\n",
       "\n",
       "    .dataframe tbody tr th {\n",
       "        vertical-align: top;\n",
       "    }\n",
       "\n",
       "    .dataframe thead th {\n",
       "        text-align: right;\n",
       "    }\n",
       "</style>\n",
       "<table border=\"1\" class=\"dataframe\">\n",
       "  <thead>\n",
       "    <tr style=\"text-align: right;\">\n",
       "      <th></th>\n",
       "      <th>image_id</th>\n",
       "      <th>5_o_clock_shadow</th>\n",
       "      <th>arched_eyebrows</th>\n",
       "      <th>attractive</th>\n",
       "      <th>bags_under_eyes</th>\n",
       "      <th>bald</th>\n",
       "      <th>bangs</th>\n",
       "      <th>big_lips</th>\n",
       "      <th>big_nose</th>\n",
       "      <th>black_hair</th>\n",
       "      <th>...</th>\n",
       "      <th>sideburns</th>\n",
       "      <th>smiling</th>\n",
       "      <th>straight_hair</th>\n",
       "      <th>wavy_hair</th>\n",
       "      <th>wearing_earrings</th>\n",
       "      <th>wearing_hat</th>\n",
       "      <th>wearing_lipstick</th>\n",
       "      <th>wearing_necklace</th>\n",
       "      <th>wearing_necktie</th>\n",
       "      <th>young</th>\n",
       "    </tr>\n",
       "  </thead>\n",
       "  <tbody>\n",
       "    <tr>\n",
       "      <th>0</th>\n",
       "      <td>000001.jpg</td>\n",
       "      <td>0</td>\n",
       "      <td>1</td>\n",
       "      <td>1</td>\n",
       "      <td>0</td>\n",
       "      <td>0</td>\n",
       "      <td>0</td>\n",
       "      <td>0</td>\n",
       "      <td>0</td>\n",
       "      <td>0</td>\n",
       "      <td>...</td>\n",
       "      <td>0</td>\n",
       "      <td>1</td>\n",
       "      <td>1</td>\n",
       "      <td>0</td>\n",
       "      <td>1</td>\n",
       "      <td>0</td>\n",
       "      <td>1</td>\n",
       "      <td>0</td>\n",
       "      <td>0</td>\n",
       "      <td>1</td>\n",
       "    </tr>\n",
       "    <tr>\n",
       "      <th>1</th>\n",
       "      <td>000002.jpg</td>\n",
       "      <td>0</td>\n",
       "      <td>0</td>\n",
       "      <td>0</td>\n",
       "      <td>1</td>\n",
       "      <td>0</td>\n",
       "      <td>0</td>\n",
       "      <td>0</td>\n",
       "      <td>1</td>\n",
       "      <td>0</td>\n",
       "      <td>...</td>\n",
       "      <td>0</td>\n",
       "      <td>1</td>\n",
       "      <td>0</td>\n",
       "      <td>0</td>\n",
       "      <td>0</td>\n",
       "      <td>0</td>\n",
       "      <td>0</td>\n",
       "      <td>0</td>\n",
       "      <td>0</td>\n",
       "      <td>1</td>\n",
       "    </tr>\n",
       "    <tr>\n",
       "      <th>2</th>\n",
       "      <td>000003.jpg</td>\n",
       "      <td>0</td>\n",
       "      <td>0</td>\n",
       "      <td>0</td>\n",
       "      <td>0</td>\n",
       "      <td>0</td>\n",
       "      <td>0</td>\n",
       "      <td>1</td>\n",
       "      <td>0</td>\n",
       "      <td>0</td>\n",
       "      <td>...</td>\n",
       "      <td>0</td>\n",
       "      <td>0</td>\n",
       "      <td>0</td>\n",
       "      <td>1</td>\n",
       "      <td>0</td>\n",
       "      <td>0</td>\n",
       "      <td>0</td>\n",
       "      <td>0</td>\n",
       "      <td>0</td>\n",
       "      <td>1</td>\n",
       "    </tr>\n",
       "    <tr>\n",
       "      <th>3</th>\n",
       "      <td>000004.jpg</td>\n",
       "      <td>0</td>\n",
       "      <td>0</td>\n",
       "      <td>1</td>\n",
       "      <td>0</td>\n",
       "      <td>0</td>\n",
       "      <td>0</td>\n",
       "      <td>0</td>\n",
       "      <td>0</td>\n",
       "      <td>0</td>\n",
       "      <td>...</td>\n",
       "      <td>0</td>\n",
       "      <td>0</td>\n",
       "      <td>1</td>\n",
       "      <td>0</td>\n",
       "      <td>1</td>\n",
       "      <td>0</td>\n",
       "      <td>1</td>\n",
       "      <td>1</td>\n",
       "      <td>0</td>\n",
       "      <td>1</td>\n",
       "    </tr>\n",
       "    <tr>\n",
       "      <th>4</th>\n",
       "      <td>000005.jpg</td>\n",
       "      <td>0</td>\n",
       "      <td>1</td>\n",
       "      <td>1</td>\n",
       "      <td>0</td>\n",
       "      <td>0</td>\n",
       "      <td>0</td>\n",
       "      <td>1</td>\n",
       "      <td>0</td>\n",
       "      <td>0</td>\n",
       "      <td>...</td>\n",
       "      <td>0</td>\n",
       "      <td>0</td>\n",
       "      <td>0</td>\n",
       "      <td>0</td>\n",
       "      <td>0</td>\n",
       "      <td>0</td>\n",
       "      <td>1</td>\n",
       "      <td>0</td>\n",
       "      <td>0</td>\n",
       "      <td>1</td>\n",
       "    </tr>\n",
       "  </tbody>\n",
       "</table>\n",
       "<p>5 rows × 41 columns</p>\n",
       "</div>"
      ],
      "text/plain": [
       "     image_id  5_o_clock_shadow  arched_eyebrows  attractive  bags_under_eyes  \\\n",
       "0  000001.jpg                 0                1           1                0   \n",
       "1  000002.jpg                 0                0           0                1   \n",
       "2  000003.jpg                 0                0           0                0   \n",
       "3  000004.jpg                 0                0           1                0   \n",
       "4  000005.jpg                 0                1           1                0   \n",
       "\n",
       "   bald  bangs  big_lips  big_nose  black_hair  ...  sideburns  smiling  \\\n",
       "0     0      0         0         0           0  ...          0        1   \n",
       "1     0      0         0         1           0  ...          0        1   \n",
       "2     0      0         1         0           0  ...          0        0   \n",
       "3     0      0         0         0           0  ...          0        0   \n",
       "4     0      0         1         0           0  ...          0        0   \n",
       "\n",
       "   straight_hair  wavy_hair  wearing_earrings  wearing_hat  wearing_lipstick  \\\n",
       "0              1          0                 1            0                 1   \n",
       "1              0          0                 0            0                 0   \n",
       "2              0          1                 0            0                 0   \n",
       "3              1          0                 1            0                 1   \n",
       "4              0          0                 0            0                 1   \n",
       "\n",
       "   wearing_necklace  wearing_necktie  young  \n",
       "0                 0                0      1  \n",
       "1                 0                0      1  \n",
       "2                 0                0      1  \n",
       "3                 1                0      1  \n",
       "4                 0                0      1  \n",
       "\n",
       "[5 rows x 41 columns]"
      ]
     },
     "execution_count": 7,
     "metadata": {},
     "output_type": "execute_result"
    }
   ],
   "source": [
    "df_labels.head()"
   ]
  },
  {
   "cell_type": "markdown",
   "metadata": {},
   "source": [
    "## Functions"
   ]
  },
  {
   "cell_type": "code",
   "execution_count": null,
   "metadata": {},
   "outputs": [],
   "source": [
    "def preprocess_image(image):\n",
    "    image = tf.image.decode_jpeg(image, channels=3)\n",
    "    image = tf.image.resize(image, [218, 178])\n",
    "    image /= 255.0  # normalize to [0,1] range\n",
    "    return image\n",
    "\n",
    "def load_and_preprocess_image(path):\n",
    "    image = tf.io.read_file(path)\n",
    "    return preprocess_image(image)"
   ]
  },
  {
   "cell_type": "code",
   "execution_count": null,
   "metadata": {
    "scrolled": false
   },
   "outputs": [],
   "source": [
    "## create a new dataset that loads and formats images on the fly\n",
    "image_ds = path_ds.map(load_and_preprocess_image, num_parallel_calls=AUTOTUNE)\n",
    "\n",
    "plt.figure(figsize = (8,8))\n",
    "for n, image in enumerate(image_ds.take(4)):\n",
    "    plt.subplot(2,2,n+1)\n",
    "    plt.imshow(image)\n",
    "    plt.grid(False)\n",
    "    plt.xticks([])\n",
    "    plt.yticks([])"
   ]
  },
  {
   "cell_type": "code",
   "execution_count": null,
   "metadata": {},
   "outputs": [],
   "source": [
    "print(image_ds)"
   ]
  },
  {
   "cell_type": "code",
   "execution_count": null,
   "metadata": {},
   "outputs": [],
   "source": [
    "for n, image in enumerate(image_ds.take(20)):\n",
    "    plt.imshow(image)\n",
    "    plt.grid(False)\n",
    "    plt.xticks([])\n",
    "    plt.yticks([])"
   ]
  },
  {
   "cell_type": "code",
   "execution_count": null,
   "metadata": {},
   "outputs": [],
   "source": []
  },
  {
   "cell_type": "code",
   "execution_count": null,
   "metadata": {},
   "outputs": [],
   "source": []
  },
  {
   "cell_type": "markdown",
   "metadata": {},
   "source": [
    "# Covnet Tensorflow"
   ]
  },
  {
   "cell_type": "code",
   "execution_count": null,
   "metadata": {},
   "outputs": [],
   "source": [
    "train_images=full_images[:90]\n",
    "train_images = np.asarray(train_images)\n",
    "train_labels=df_labels.male[:90]\n",
    "train_labels = np.asarray(train_labels)\n",
    "\n",
    "test_images=full_images[90:100]\n",
    "test_images = np.asarray(test_images)\n",
    "test_labels=df_labels.male[90:100]\n",
    "test_labels = np.asarray(test_labels)"
   ]
  },
  {
   "cell_type": "code",
   "execution_count": 7,
   "metadata": {},
   "outputs": [],
   "source": [
    "X_train, X_test, y_train, y_test = train_test_split(np.asarray(full_images), np.asarray(df_labels.male)[:20000], shuffle=False)"
   ]
  },
  {
   "cell_type": "code",
   "execution_count": 9,
   "metadata": {},
   "outputs": [
    {
     "data": {
      "text/plain": [
       "array([[[253, 231, 194],\n",
       "        [253, 231, 194],\n",
       "        [253, 231, 194],\n",
       "        ...,\n",
       "        [247, 226, 225],\n",
       "        [254, 238, 222],\n",
       "        [254, 238, 222]],\n",
       "\n",
       "       [[253, 231, 194],\n",
       "        [253, 231, 194],\n",
       "        [253, 231, 194],\n",
       "        ...,\n",
       "        [249, 228, 225],\n",
       "        [254, 238, 222],\n",
       "        [254, 238, 222]],\n",
       "\n",
       "       [[253, 231, 194],\n",
       "        [253, 231, 194],\n",
       "        [253, 231, 194],\n",
       "        ...,\n",
       "        [250, 231, 227],\n",
       "        [255, 239, 223],\n",
       "        [255, 239, 223]],\n",
       "\n",
       "       ...,\n",
       "\n",
       "       [[140,  74,  26],\n",
       "        [116,  48,   1],\n",
       "        [146,  78,  33],\n",
       "        ...,\n",
       "        [122,  55,  28],\n",
       "        [122,  56,  30],\n",
       "        [122,  56,  30]],\n",
       "\n",
       "       [[130,  62,  15],\n",
       "        [138,  70,  23],\n",
       "        [166,  98,  53],\n",
       "        ...,\n",
       "        [118,  49,  20],\n",
       "        [118,  51,  24],\n",
       "        [118,  51,  24]],\n",
       "\n",
       "       [[168, 100,  53],\n",
       "        [204, 136,  89],\n",
       "        [245, 177, 132],\n",
       "        ...,\n",
       "        [118,  49,  20],\n",
       "        [120,  50,  24],\n",
       "        [120,  50,  24]]], dtype=uint8)"
      ]
     },
     "execution_count": 9,
     "metadata": {},
     "output_type": "execute_result"
    }
   ],
   "source": [
    "X_train[0]"
   ]
  },
  {
   "cell_type": "markdown",
   "metadata": {},
   "source": [
    "## First Layer"
   ]
  },
  {
   "cell_type": "code",
   "execution_count": null,
   "metadata": {},
   "outputs": [],
   "source": [
    "model = keras.models.Sequential([\n",
    "    keras.layers.Conv2D(16, (5, 5), activation='relu',\n",
    "                        input_shape=(218, 178, 3), padding = \"same\"),\n",
    "    keras.layers.MaxPooling2D((2, 2))\n",
    "])"
   ]
  },
  {
   "cell_type": "code",
   "execution_count": null,
   "metadata": {},
   "outputs": [],
   "source": [
    "model.summary()"
   ]
  },
  {
   "cell_type": "markdown",
   "metadata": {},
   "source": [
    "## Second Layer"
   ]
  },
  {
   "cell_type": "code",
   "execution_count": null,
   "metadata": {},
   "outputs": [],
   "source": [
    "model.add(keras.layers.Conv2D(32, (5, 5), activation = 'relu', padding = 'same'))\n",
    "model.add(keras.layers.MaxPool2D(2,2))"
   ]
  },
  {
   "cell_type": "code",
   "execution_count": null,
   "metadata": {},
   "outputs": [],
   "source": [
    "model.summary()"
   ]
  },
  {
   "cell_type": "markdown",
   "metadata": {},
   "source": [
    "## Third Layer"
   ]
  },
  {
   "cell_type": "code",
   "execution_count": null,
   "metadata": {},
   "outputs": [],
   "source": [
    "model.add(keras.layers.Flatten())\n",
    "model.add(keras.layers.Dense(128, activation = \"relu\"))"
   ]
  },
  {
   "cell_type": "code",
   "execution_count": null,
   "metadata": {},
   "outputs": [],
   "source": [
    "model.add(keras.layers.Dense(2,  activation = \"softmax\"))"
   ]
  },
  {
   "cell_type": "code",
   "execution_count": null,
   "metadata": {},
   "outputs": [],
   "source": [
    "model.summary()"
   ]
  },
  {
   "cell_type": "markdown",
   "metadata": {},
   "source": [
    "## Train the Network"
   ]
  },
  {
   "cell_type": "code",
   "execution_count": null,
   "metadata": {},
   "outputs": [],
   "source": [
    "model.compile(optimizer='adam',\n",
    "              loss='sparse_categorical_crossentropy',\n",
    "              metrics=['accuracy'])"
   ]
  },
  {
   "cell_type": "code",
   "execution_count": null,
   "metadata": {},
   "outputs": [],
   "source": [
    "X_train"
   ]
  },
  {
   "cell_type": "code",
   "execution_count": null,
   "metadata": {},
   "outputs": [],
   "source": [
    "%%time\n",
    "X_train_images = X_train.reshape((X_train.shape[0], 218, 178, 3))\n",
    "model.fit(X_train_images, y_train, epochs=1, verbose=2)"
   ]
  },
  {
   "cell_type": "code",
   "execution_count": null,
   "metadata": {},
   "outputs": [],
   "source": [
    "%%time\n",
    "test_loss, test_acc = model.evaluate(X_test, y_test, verbose=0)\n",
    "print('\\nTest accuracy {:5.2f}%'.format(100*test_acc))"
   ]
  },
  {
   "cell_type": "markdown",
   "metadata": {},
   "source": [
    "## Save the model"
   ]
  },
  {
   "cell_type": "code",
   "execution_count": null,
   "metadata": {},
   "outputs": [],
   "source": []
  },
  {
   "cell_type": "code",
   "execution_count": null,
   "metadata": {},
   "outputs": [],
   "source": []
  },
  {
   "cell_type": "markdown",
   "metadata": {},
   "source": [
    "## Plotting the Weights"
   ]
  },
  {
   "cell_type": "code",
   "execution_count": null,
   "metadata": {},
   "outputs": [],
   "source": [
    "def plot_digit_weights(ax, digit):\n",
    "    \"\"\"Plot the weights from our fit fully connected network as an image.\"\"\"\n",
    "    digit_weigths = np.reshape(model.weights[0][:,digit], (218,178))\n",
    "    ax.imshow(digit_weigths, cmap=plt.cm.winter, interpolation=\"nearest\")    "
   ]
  },
  {
   "cell_type": "code",
   "execution_count": null,
   "metadata": {},
   "outputs": [],
   "source": [
    "fig, axs = plt.subplots(2, 5, figsize=(12, 6))\n",
    "\n",
    "for digit, ax in enumerate(axs.flatten()):\n",
    "    plot_digit_weights(ax, digit)\n",
    "\n",
    "remove_grid_lines(axs)\n",
    "fig.suptitle(\"Fitted FC-weights plotted as an image\")\n",
    "plt.tight_layout()"
   ]
  },
  {
   "cell_type": "code",
   "execution_count": null,
   "metadata": {},
   "outputs": [],
   "source": []
  }
 ],
 "metadata": {
  "kernelspec": {
   "display_name": "Python 3",
   "language": "python",
   "name": "python3"
  },
  "language_info": {
   "codemirror_mode": {
    "name": "ipython",
    "version": 3
   },
   "file_extension": ".py",
   "mimetype": "text/x-python",
   "name": "python",
   "nbconvert_exporter": "python",
   "pygments_lexer": "ipython3",
   "version": "3.7.3"
  }
 },
 "nbformat": 4,
 "nbformat_minor": 2
}
